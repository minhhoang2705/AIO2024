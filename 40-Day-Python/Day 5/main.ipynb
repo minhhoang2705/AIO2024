{
 "cells": [
  {
   "cell_type": "code",
   "execution_count": 1,
   "metadata": {},
   "outputs": [
    {
     "name": "stdout",
     "output_type": "stream",
     "text": [
      "[1, 2, 3, 4, 5]\n",
      "1 3 5 7 9 \n",
      "\n",
      "55\n"
     ]
    }
   ],
   "source": [
    "lst = [i for i in range(1, 11)]\n",
    "print(lst[:5])\n",
    "\n",
    "\n",
    "for i in lst:\n",
    "    if i % 2 != 0:\n",
    "        print(i, end=\" \")\n",
    "print(\"\\n\")    \n",
    "\n",
    "\n",
    "sum = 0\n",
    "for i in lst: \n",
    "    sum += i\n",
    "print(sum)"
   ]
  },
  {
   "cell_type": "code",
   "execution_count": null,
   "metadata": {},
   "outputs": [],
   "source": []
  }
 ],
 "metadata": {
  "kernelspec": {
   "display_name": "aio2024_env",
   "language": "python",
   "name": "python3"
  },
  "language_info": {
   "codemirror_mode": {
    "name": "ipython",
    "version": 3
   },
   "file_extension": ".py",
   "mimetype": "text/x-python",
   "name": "python",
   "nbconvert_exporter": "python",
   "pygments_lexer": "ipython3",
   "version": "3.10.14"
  }
 },
 "nbformat": 4,
 "nbformat_minor": 2
}
