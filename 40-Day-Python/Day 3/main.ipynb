{
 "cells": [
  {
   "cell_type": "code",
   "execution_count": 4,
   "metadata": {},
   "outputs": [],
   "source": [
    "import math\n",
    "def quadratic_equation(a: int, b: int, c: int) -> int:\n",
    "    delta = b ** 2 - 4 * a * c\n",
    "    if a == 0:\n",
    "        if b != 0:\n",
    "            x = -c / b\n",
    "            print(f\"Nghiệm của phương trình x = {x}\")\n",
    "        else:\n",
    "            print(\"error\")\n",
    "    else:\n",
    "        if delta > 0:\n",
    "            x1 = (-b - math.sqrt(delta)) / (2 * a)\n",
    "            x2 = (-b + math.sqrt(delta)) / (2 * a)\n",
    "            print(f\"Phương trình có nghiệm x1 = {x1}\\nPhương trình có nghiệm x2 = {x2}\")\n",
    "        elif delta == 0:\n",
    "            x = -b / (2 * a)\n",
    "            print(f\"phương trình có nghiệm x1 = x2 = {x}\")\n",
    "        else: \n",
    "            print(\"Phương trình vô nghiệm\")"
   ]
  },
  {
   "cell_type": "code",
   "execution_count": 5,
   "metadata": {},
   "outputs": [
    {
     "name": "stdout",
     "output_type": "stream",
     "text": [
      "Phương trình có nghiệm x1 = -2.0\n",
      "Phương trình có nghiệm x2 = -1.0\n",
      "phương trình có nghiệm x1 = x2 = -1.0\n",
      "Phương trình vô nghiệm\n"
     ]
    }
   ],
   "source": [
    "quadratic_equation(2, 6, 4)\n",
    "quadratic_equation(1, 2, 1)\n",
    "quadratic_equation(4, 6, 3)\n"
   ]
  },
  {
   "cell_type": "code",
   "execution_count": null,
   "metadata": {},
   "outputs": [],
   "source": []
  }
 ],
 "metadata": {
  "kernelspec": {
   "display_name": "aio2024_env",
   "language": "python",
   "name": "python3"
  },
  "language_info": {
   "codemirror_mode": {
    "name": "ipython",
    "version": 3
   },
   "file_extension": ".py",
   "mimetype": "text/x-python",
   "name": "python",
   "nbconvert_exporter": "python",
   "pygments_lexer": "ipython3",
   "version": "3.10.14"
  }
 },
 "nbformat": 4,
 "nbformat_minor": 2
}
